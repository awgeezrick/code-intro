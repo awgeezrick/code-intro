{
 "cells": [
  {
   "cell_type": "markdown",
   "metadata": {},
   "source": [
    "# Function arguments"
   ]
  },
  {
   "cell_type": "markdown",
   "metadata": {},
   "source": [
    "## Introduction"
   ]
  },
  {
   "cell_type": "markdown",
   "metadata": {},
   "source": [
    "In the last lesson we learned about functions.  We saw that functions allow us to save a procedure of a code and, once defined, execute that function whenever we want.  We declare a function with the following pattern: "
   ]
  },
  {
   "cell_type": "markdown",
   "metadata": {},
   "source": [
    "```python\n",
    "def function_name():\n",
    "    body_of_function = 'hello'\n",
    "    return body_of_function + ' world'\n",
    "```"
   ]
  },
  {
   "cell_type": "markdown",
   "metadata": {},
   "source": [
    "The contents of the function stay within the walls of the function, except for the return value, which stays inside the walls of the function.  This allows us to think about the end result of what a function does, instead of worrying about the procedure the function takes to get there. "
   ]
  },
  {
   "cell_type": "markdown",
   "metadata": {},
   "source": [
    "### Updating our Code"
   ]
  },
  {
   "cell_type": "markdown",
   "metadata": {},
   "source": [
    "In the previous lesson, we defined a function for saving our procedure of collecting data from Wikipedia's page and returning a list of dictionaries."
   ]
  },
  {
   "cell_type": "code",
   "execution_count": 3,
   "metadata": {},
   "outputs": [],
   "source": [
    "import pandas as pd \n",
    "def gather_cities():\n",
    "    url = 'https://en.wikipedia.org/wiki/List_of_United_States_cities_by_population'\n",
    "    tables = pd.read_html(url)\n",
    "    cities_table = tables[4]\n",
    "    cities = cities_table.to_dict('records')\n",
    "    return cities"
   ]
  },
  {
   "cell_type": "code",
   "execution_count": 8,
   "metadata": {},
   "outputs": [
    {
     "data": {
      "text/plain": [
       "{'2018rank': 1,\n",
       " 'City': 'New York[d]',\n",
       " 'State[c]': 'New York',\n",
       " '2018estimate': 8398748,\n",
       " '2010Census': 8175133,\n",
       " 'Change': '+2.74%',\n",
       " '2016 land area': '301.5\\xa0sq\\xa0mi',\n",
       " '2016 land area.1': '780.9\\xa0km2',\n",
       " '2016 population density': '28,317/sq\\xa0mi',\n",
       " '2016 population density.1': '10,933/km2',\n",
       " 'Location': '40°39′49″N 73°56′19″W\\ufeff / \\ufeff40.6635°N 73.9387°W'}"
      ]
     },
     "execution_count": 8,
     "metadata": {},
     "output_type": "execute_result"
    }
   ],
   "source": [
    "cities = gather_cities()\n",
    "cities[0]"
   ]
  },
  {
   "cell_type": "markdown",
   "metadata": {},
   "source": [
    "Now let's learn about a tool that we can use that can allow us to adapt that code so that it not only pulls the data from that one Wikipedia page, but can pull data from any page with tables on it.\n",
    "\n",
    "To do so, we need to learn about function arguments."
   ]
  },
  {
   "cell_type": "markdown",
   "metadata": {},
   "source": [
    "### Function arguments"
   ]
  },
  {
   "cell_type": "markdown",
   "metadata": {},
   "source": [
    "Below is a function argument."
   ]
  },
  {
   "cell_type": "code",
   "execution_count": 10,
   "metadata": {},
   "outputs": [],
   "source": [
    "def greet(person):\n",
    "    return print('hello ' + person)"
   ]
  },
  {
   "cell_type": "code",
   "execution_count": 11,
   "metadata": {},
   "outputs": [
    {
     "name": "stdout",
     "output_type": "stream",
     "text": [
      "hello sam\n"
     ]
    }
   ],
   "source": [
    "greet('sam')"
   ]
  },
  {
   "cell_type": "code",
   "execution_count": 12,
   "metadata": {},
   "outputs": [
    {
     "name": "stdout",
     "output_type": "stream",
     "text": [
      "hello susan\n"
     ]
    }
   ],
   "source": [
    "greet('susan')"
   ]
  },
  {
   "cell_type": "markdown",
   "metadata": {},
   "source": [
    "Let's explain what happens in the code above.  Above, when we define our function, we leave a function argument called `person` to be defined later.  This function argument is defined when we execute our function."
   ]
  },
  {
   "cell_type": "code",
   "execution_count": 13,
   "metadata": {},
   "outputs": [
    {
     "name": "stdout",
     "output_type": "stream",
     "text": [
      "hello simpson\n"
     ]
    }
   ],
   "source": [
    "greet('simpson')"
   ]
  },
  {
   "cell_type": "markdown",
   "metadata": {},
   "source": [
    "This last time, we passed through `'simpson'` to be our argument, and Python said that everytime the word `person` appears in the function, it should equal simpson.  Then the function finishes executing.\n",
    "\n",
    "The next time we call the function, we need to set another function argument.  Try calling the `greet` function with the argument `miss darcy` in the cell below."
   ]
  },
  {
   "cell_type": "code",
   "execution_count": 15,
   "metadata": {},
   "outputs": [
    {
     "name": "stdout",
     "output_type": "stream",
     "text": [
      "hello miss darcy\n"
     ]
    }
   ],
   "source": [
    "greet('miss darcy')\n",
    "\n",
    "# 'hello miss darcy'"
   ]
  },
  {
   "cell_type": "markdown",
   "metadata": {},
   "source": [
    "Next write a function that takes an argument of `name` and says goodbye to the name passed through as an argument."
   ]
  },
  {
   "cell_type": "markdown",
   "metadata": {},
   "source": [
    "### Why functions arguments matter"
   ]
  },
  {
   "cell_type": "markdown",
   "metadata": {},
   "source": [
    "Functions arguments are important because it allows our "
   ]
  },
  {
   "cell_type": "markdown",
   "metadata": {},
   "source": [
    "Then we had a function for turning those list of dictionaries into a list of populations.  And for turning our list of dictionaries into a list of city names."
   ]
  },
  {
   "cell_type": "code",
   "execution_count": 9,
   "metadata": {},
   "outputs": [],
   "source": [
    "def get_populations():\n",
    "    populations = []\n",
    "\n",
    "    for each_city in cities:\n",
    "        city_pop = each_city['2018estimate']\n",
    "        populations.append(city_pop)\n",
    "    return populations\n",
    "\n",
    "def get_city_names():\n",
    "    city_names = []\n",
    "\n",
    "    for each_city in cities:\n",
    "        city_name = each_city['City']\n",
    "        city_names.append(city_name)\n",
    "    return city_names"
   ]
  },
  {
   "cell_type": "code",
   "execution_count": 7,
   "metadata": {},
   "outputs": [
    {
     "data": {
      "text/plain": [
       "[8398748, 3990456, 2705994]"
      ]
     },
     "execution_count": 7,
     "metadata": {},
     "output_type": "execute_result"
    }
   ],
   "source": [
    "get_populations()[:3]"
   ]
  },
  {
   "cell_type": "markdown",
   "metadata": {},
   "source": [
    "Now if we look at the code above, notice that the functions for `get_populations` are exactly the same, except for the key `2018estimate` and `City` in the other."
   ]
  },
  {
   "cell_type": "markdown",
   "metadata": {},
   "source": [
    "<center>\n",
    "<a href=\"https://www.jigsawlabs.io\" style=\"position: center\"><img src=\"https://storage.cloud.google.com/curriculum-assets/curriculum-assets.nosync/mom-files/jigsaw-labs.png\" width=\"15%\" style=\"text-align: center\"></a>\n",
    "</center>"
   ]
  }
 ],
 "metadata": {
  "kernelspec": {
   "display_name": "Python 3",
   "language": "python",
   "name": "python3"
  },
  "language_info": {
   "codemirror_mode": {
    "name": "ipython",
    "version": 3
   },
   "file_extension": ".py",
   "mimetype": "text/x-python",
   "name": "python",
   "nbconvert_exporter": "python",
   "pygments_lexer": "ipython3",
   "version": "3.7.4"
  }
 },
 "nbformat": 4,
 "nbformat_minor": 4
}
